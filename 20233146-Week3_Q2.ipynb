{
  "nbformat": 4,
  "nbformat_minor": 0,
  "metadata": {
    "colab": {
      "provenance": []
    },
    "kernelspec": {
      "name": "python3",
      "display_name": "Python 3"
    },
    "language_info": {
      "name": "python"
    }
  },
  "cells": [
    {
      "cell_type": "markdown",
      "source": [
        "# **Q1**. **몫과 나머지 계산**\n",
        "\n",
        "7678를 12로 나누었을 때의 몫과 나머지를 구하여 보세요.<br>\n"
      ],
      "metadata": {
        "id": "jBUC3rOXJn1-"
      }
    },
    {
      "cell_type": "code",
      "source": [
        "a = int(input('나누고자 하는 숫자를 입력하세요> '))\n",
        "b = int(input('나눌 숫자를 입력하세요> '))\n",
        "print(\"몫은 :\", a // b)\n",
        "print(\"나머지는 :\", a % b)"
      ],
      "metadata": {
        "id": "GwFamltPLAv3",
        "colab": {
          "base_uri": "https://localhost:8080/"
        },
        "outputId": "2a37e548-a5b7-4a07-f696-741bd69d9673"
      },
      "execution_count": null,
      "outputs": [
        {
          "output_type": "stream",
          "name": "stdout",
          "text": [
            "나누고자 하는 숫자를 입력하세요> 7678\n",
            "나눌 숫자를 입력하세요> 12\n",
            "몫은 : 639\n",
            "나머지는 : 10\n"
          ]
        }
      ]
    },
    {
      "cell_type": "markdown",
      "source": [
        "# **Q2**. **두 변수의 값을 서로 바꾸고 연산**\n",
        "\n",
        "변수 x에 5을 대입하고 변수 y에 6를 대입한 후, 변수 x의 값과 변수 y의 값을 서로 바꾼 후 다음 [결과]와 같이 출력해보세요.<br>\n",
        "\n",
        "[실행결과]<br>\n",
        "x=6, y=5<br>\n",
        "x + y ==> 6 + 5 = 11<br>\n",
        "x * y ==> 6 * 5 = 30<br>\n",
        "x ** y ==> 6 ** 5 = 7776<br>\n",
        "x += y ==> 11<br>\n"
      ],
      "metadata": {
        "id": "MmMmQ82Rg5YB"
      }
    },
    {
      "cell_type": "code",
      "source": [
        "\n",
        "x=int(input(\"숫자입력하시오\"))\n",
        "y=int(input(\"숫자입력하시오\"))\n",
        "z=x\n",
        "x=y\n",
        "y=z\n",
        "print(\"x=\",x,\"y=\",y)\n",
        "print(\"x+y==>\",x,\"+\",y,\"=\",x+y)\n",
        "print(\"x*y==>\",x,\"*\",y,\"=\",x*y)\n",
        "print(\"x**y==>\",x,\"**\",y,\"=\",x**y)\n",
        "print(\"x+=y==>\",x+y)"
      ],
      "metadata": {
        "id": "ltx4IOGBeBOx",
        "colab": {
          "base_uri": "https://localhost:8080/"
        },
        "outputId": "9f5e11f8-61e6-47be-afe7-f2e09efa00c6"
      },
      "execution_count": 2,
      "outputs": [
        {
          "output_type": "stream",
          "name": "stdout",
          "text": [
            "숫자입력하시오5\n",
            "숫자입력하시오6\n",
            "x= 6 y= 5\n",
            "x+y==> 6 + 5 = 11\n",
            "x*y==> 6 * 5 = 30\n",
            "x**y==> 6 ** 5 = 7776\n",
            "x+=y==> 11\n"
          ]
        }
      ]
    },
    {
      "cell_type": "markdown",
      "source": [
        "# **Q3.정수의 각 자리수 분리**\n",
        "\n",
        "세자리 정수값 543을  백의 자리, 십의 자리, 일의 자리로 분리하여 출력하는 프로그램을 작성해보세요.<br>"
      ],
      "metadata": {
        "id": "0nz32Rhzg69s"
      }
    },
    {
      "cell_type": "code",
      "source": [
        "a=input(\"숫자를 입력하세요\")\n",
        "print(\"백의자리:\",a[-3])\n",
        "print(\"십의자리:\",a[-2])\n",
        "print(\"일의자리:\",a[-1])"
      ],
      "metadata": {
        "colab": {
          "base_uri": "https://localhost:8080/"
        },
        "id": "prlG-ygFLNvO",
        "outputId": "146d55a3-0d12-4cc9-92fb-147fff438080"
      },
      "execution_count": 4,
      "outputs": [
        {
          "output_type": "stream",
          "name": "stdout",
          "text": [
            "숫자를 입력하세요543\n",
            "백의자리: 5\n",
            "십의자리: 4\n",
            "일의자리: 3\n"
          ]
        }
      ]
    },
    {
      "cell_type": "markdown",
      "source": [
        "# **Q4.거스름돈 계산하기**\n",
        "\n",
        "변수를 이용하여 물건가격, 구매개수, 지불금액 , 할인율등을 임의의 값으로 입력한 후, 거스름돈을 계산하는 프로그램을 작성해보세요\n",
        "\n"
      ],
      "metadata": {
        "id": "aymJ4jp5L8UO"
      }
    },
    {
      "cell_type": "code",
      "source": [
        "a=int(input(\"물건의 개당 가격을 입력하세요:\"))\n",
        "b=int(input(\"물건의 개수를 입력하세요:\"))\n",
        "c=int(input(\"지불한 금액을 입력하세요:\"))\n",
        "d=int(input(\"할인률을 입력하세요(%):\"))\n",
        "print(c-a*b*(100-d)*(0.01))"
      ],
      "metadata": {
        "colab": {
          "base_uri": "https://localhost:8080/"
        },
        "id": "4VI9lmqcLcKu",
        "outputId": "bdee3bac-9119-4f87-8281-879f85f28ad1"
      },
      "execution_count": 7,
      "outputs": [
        {
          "output_type": "stream",
          "name": "stdout",
          "text": [
            "물건의 개당 가격을 입력하세요:500\n",
            "물건의 개수를 입력하세요:20\n",
            "지불한 금액을 입력하세요:20000\n",
            "할인률을 입력하세요(%):10\n",
            "11000.0\n"
          ]
        }
      ]
    },
    {
      "cell_type": "markdown",
      "source": [
        "# **Q5.커피 가게 매출 계산**\n",
        "\n",
        "우리가 커피 전문점을 내려고 한다. 다음과 같은 커피 메뉴가 있을 때, 매출액과 순이익을 구하시오.\n",
        "- 하루 재료비가 100000원으로 가정함<br>\n",
        "- 아메리카노 - 2,500원, 카페라테 - 3,200원, 카푸치노 - 3,000원<br>\n",
        "- 아메리카노 판매 개수: 10, 카페라떼 판매 개수: 20, 카푸치노 판매 개수: 30<br><br>\n"
      ],
      "metadata": {
        "id": "At8SE2x_eCZY"
      }
    },
    {
      "cell_type": "code",
      "source": [],
      "metadata": {
        "id": "Wd1qYQFL6d28"
      },
      "execution_count": null,
      "outputs": []
    },
    {
      "cell_type": "code",
      "source": [
        "print(\"매출액:\",2500*10+3200*20+3000*30)\n",
        "print(\"순이익:\",2500*10+3200*20+3000*30-100000)"
      ],
      "metadata": {
        "colab": {
          "base_uri": "https://localhost:8080/"
        },
        "id": "ti9DW0T-Opd3",
        "outputId": "a2773c1b-a249-4e7f-cce7-04cd422150bd"
      },
      "execution_count": 10,
      "outputs": [
        {
          "output_type": "stream",
          "name": "stdout",
          "text": [
            "매출액: 179000\n",
            "순이익: 79000\n"
          ]
        }
      ]
    },
    {
      "cell_type": "markdown",
      "source": [
        "# **Q6.시간 계산**\n",
        "\n",
        "753초를 분과 초를 계산하는 프로그램을 작성해보세요.\n"
      ],
      "metadata": {
        "id": "lZ0XaklJjCgu"
      }
    },
    {
      "cell_type": "code",
      "source": [
        "a=int(input(\"구하고자 하는 초를 입력하세요\"))\n",
        "b=a//60\n",
        "c=a-60*b\n",
        "print(a,\"초는\",b,\"분과\",c,\"초입니다.\")"
      ],
      "metadata": {
        "colab": {
          "base_uri": "https://localhost:8080/"
        },
        "id": "oF9bxD73L_R9",
        "outputId": "9720181f-db35-42e6-a604-23c8b70e1032"
      },
      "execution_count": 11,
      "outputs": [
        {
          "output_type": "stream",
          "name": "stdout",
          "text": [
            "구하고자 하는 초를 입력하세요6530\n",
            "6530 초는 108 분과 50 초입니다.\n"
          ]
        }
      ]
    },
    {
      "cell_type": "markdown",
      "source": [
        "# **Q7**. **로봇 기자 만들기**\n",
        "\n",
        "기사의 틀을 만들어두고 자동으로 기사를 작성하는 프로그램을 작성해 보세요\n",
        "\n",
        "\n",
        "[실행결과]<br>\n",
        "경기장은 어디입니까? 서울<br>\n",
        "이긴팀은 어디입니까? 타이거<br>\n",
        "진팀은 어디입니까? 라이온스<br>\n",
        "우수선수는 누구입니까? 홍길동<br>\n",
        "스코어는 몇대몇입니까? 8:7<br><br>\n",
        "\n",
        "===========================================<br>\n",
        "오늘 서울에서 야구 경기가 열렸습니다.<br>\n",
        "타이거와 라이온스는 치열한 공방전을 펼쳤습니다.<br>\n",
        "홍길동이 맹활약을 하였습니다.<br>\n",
        "결국 타이거가 라이온스를 8:7로 이겼습니다.<br>\n",
        "===========================================<br>\n"
      ],
      "metadata": {
        "id": "bGT2Dq7vLZzX"
      }
    },
    {
      "cell_type": "code",
      "source": [
        "a=input(\"경기장은 어디입니까?\")\n",
        "b=input(\"이긴팀은 어디입니까?\")\n",
        "c=input(\"진팀은 어디입니까?\")\n",
        "d=input(\"우수선수는 누구입니까?\")\n",
        "e=input(\"스코어는 몇대몇입니까?\")\n",
        "print(\"=\"*20)\n",
        "print(\"오늘\",a,\"에서 야구 경기가 열렸습니다.\")\n",
        "print(b,\"와\",c,\"는 치열한 공방전을 펼쳤습니다.\")\n",
        "print(d,\"이 맹활약을 하였습니다.\")\n",
        "print(\"결국\",b,\"가\",c,\"를\",e,\"로 이겼습니다.\")\n",
        "print(\"=\"*20)\n"
      ],
      "metadata": {
        "colab": {
          "base_uri": "https://localhost:8080/",
          "height": 405
        },
        "id": "yDJeFjFkTx5_",
        "outputId": "1ad5ae31-7f77-4ae0-ee9d-9e85cb767a71"
      },
      "execution_count": 24,
      "outputs": [
        {
          "output_type": "error",
          "ename": "KeyboardInterrupt",
          "evalue": "ignored",
          "traceback": [
            "\u001b[0;31m---------------------------------------------------------------------------\u001b[0m",
            "\u001b[0;31mKeyboardInterrupt\u001b[0m                         Traceback (most recent call last)",
            "\u001b[0;32m<ipython-input-24-4a0c1e4e6f96>\u001b[0m in \u001b[0;36m<module>\u001b[0;34m\u001b[0m\n\u001b[0;32m----> 1\u001b[0;31m \u001b[0ma\u001b[0m\u001b[0;34m=\u001b[0m\u001b[0minput\u001b[0m\u001b[0;34m(\u001b[0m\u001b[0;34m\"경기장은 어디입니까?\"\u001b[0m\u001b[0;34m)\u001b[0m\u001b[0;34m\u001b[0m\u001b[0;34m\u001b[0m\u001b[0m\n\u001b[0m\u001b[1;32m      2\u001b[0m \u001b[0mb\u001b[0m\u001b[0;34m=\u001b[0m\u001b[0minput\u001b[0m\u001b[0;34m(\u001b[0m\u001b[0;34m\"이긴팀은 어디입니까?\"\u001b[0m\u001b[0;34m)\u001b[0m\u001b[0;34m\u001b[0m\u001b[0;34m\u001b[0m\u001b[0m\n\u001b[1;32m      3\u001b[0m \u001b[0mc\u001b[0m\u001b[0;34m=\u001b[0m\u001b[0minput\u001b[0m\u001b[0;34m(\u001b[0m\u001b[0;34m\"진팀은 어디입니까?\"\u001b[0m\u001b[0;34m)\u001b[0m\u001b[0;34m\u001b[0m\u001b[0;34m\u001b[0m\u001b[0m\n\u001b[1;32m      4\u001b[0m \u001b[0md\u001b[0m\u001b[0;34m=\u001b[0m\u001b[0minput\u001b[0m\u001b[0;34m(\u001b[0m\u001b[0;34m\"우수선수는 누구입니까?\"\u001b[0m\u001b[0;34m)\u001b[0m\u001b[0;34m\u001b[0m\u001b[0;34m\u001b[0m\u001b[0m\n\u001b[1;32m      5\u001b[0m \u001b[0me\u001b[0m\u001b[0;34m=\u001b[0m\u001b[0minput\u001b[0m\u001b[0;34m(\u001b[0m\u001b[0;34m\"스코어는 몇대몇입니까?\"\u001b[0m\u001b[0;34m)\u001b[0m\u001b[0;34m\u001b[0m\u001b[0;34m\u001b[0m\u001b[0m\n",
            "\u001b[0;32m/usr/local/lib/python3.9/dist-packages/ipykernel/kernelbase.py\u001b[0m in \u001b[0;36mraw_input\u001b[0;34m(self, prompt)\u001b[0m\n\u001b[1;32m    858\u001b[0m                 \u001b[0;34m\"raw_input was called, but this frontend does not support input requests.\"\u001b[0m\u001b[0;34m\u001b[0m\u001b[0;34m\u001b[0m\u001b[0m\n\u001b[1;32m    859\u001b[0m             )\n\u001b[0;32m--> 860\u001b[0;31m         return self._input_request(str(prompt),\n\u001b[0m\u001b[1;32m    861\u001b[0m             \u001b[0mself\u001b[0m\u001b[0;34m.\u001b[0m\u001b[0m_parent_ident\u001b[0m\u001b[0;34m,\u001b[0m\u001b[0;34m\u001b[0m\u001b[0;34m\u001b[0m\u001b[0m\n\u001b[1;32m    862\u001b[0m             \u001b[0mself\u001b[0m\u001b[0;34m.\u001b[0m\u001b[0m_parent_header\u001b[0m\u001b[0;34m,\u001b[0m\u001b[0;34m\u001b[0m\u001b[0;34m\u001b[0m\u001b[0m\n",
            "\u001b[0;32m/usr/local/lib/python3.9/dist-packages/ipykernel/kernelbase.py\u001b[0m in \u001b[0;36m_input_request\u001b[0;34m(self, prompt, ident, parent, password)\u001b[0m\n\u001b[1;32m    902\u001b[0m             \u001b[0;32mexcept\u001b[0m \u001b[0mKeyboardInterrupt\u001b[0m\u001b[0;34m:\u001b[0m\u001b[0;34m\u001b[0m\u001b[0;34m\u001b[0m\u001b[0m\n\u001b[1;32m    903\u001b[0m                 \u001b[0;31m# re-raise KeyboardInterrupt, to truncate traceback\u001b[0m\u001b[0;34m\u001b[0m\u001b[0;34m\u001b[0m\u001b[0m\n\u001b[0;32m--> 904\u001b[0;31m                 \u001b[0;32mraise\u001b[0m \u001b[0mKeyboardInterrupt\u001b[0m\u001b[0;34m(\u001b[0m\u001b[0;34m\"Interrupted by user\"\u001b[0m\u001b[0;34m)\u001b[0m \u001b[0;32mfrom\u001b[0m \u001b[0;32mNone\u001b[0m\u001b[0;34m\u001b[0m\u001b[0;34m\u001b[0m\u001b[0m\n\u001b[0m\u001b[1;32m    905\u001b[0m             \u001b[0;32mexcept\u001b[0m \u001b[0mException\u001b[0m \u001b[0;32mas\u001b[0m \u001b[0me\u001b[0m\u001b[0;34m:\u001b[0m\u001b[0;34m\u001b[0m\u001b[0;34m\u001b[0m\u001b[0m\n\u001b[1;32m    906\u001b[0m                 \u001b[0mself\u001b[0m\u001b[0;34m.\u001b[0m\u001b[0mlog\u001b[0m\u001b[0;34m.\u001b[0m\u001b[0mwarning\u001b[0m\u001b[0;34m(\u001b[0m\u001b[0;34m\"Invalid Message:\"\u001b[0m\u001b[0;34m,\u001b[0m \u001b[0mexc_info\u001b[0m\u001b[0;34m=\u001b[0m\u001b[0;32mTrue\u001b[0m\u001b[0;34m)\u001b[0m\u001b[0;34m\u001b[0m\u001b[0;34m\u001b[0m\u001b[0m\n",
            "\u001b[0;31mKeyboardInterrupt\u001b[0m: Interrupted by user"
          ]
        }
      ]
    },
    {
      "cell_type": "markdown",
      "source": [
        "# **Q8**. **탄생년으로 나이 계산하기**\n",
        "\n",
        "본인의 이름과 탄생년을 변수에 입력한 후, 나이를 계산하는 프로그램을 작성해보세요\n"
      ],
      "metadata": {
        "id": "hMr8KTvzf_7L"
      }
    },
    {
      "cell_type": "code",
      "source": [
        "import datetime\n",
        "a=int(input(\"당신의 탄생년도를 입력하세요:\"))\n",
        "now=datetime.datetime.now()\n",
        "this_year=now.year\n",
        "print(\"당신의 나이는\",this_year-a+1,\"입니다.\")\n"
      ],
      "metadata": {
        "colab": {
          "base_uri": "https://localhost:8080/"
        },
        "id": "QNOqf0-aMVQe",
        "outputId": "7eb363aa-798f-40ba-ce14-a2c6d830272b"
      },
      "execution_count": 26,
      "outputs": [
        {
          "output_type": "stream",
          "name": "stdout",
          "text": [
            "당신의 탄생년도를 입력하세요:2004\n",
            "당신의 나이는 20 입니다.\n"
          ]
        }
      ]
    },
    {
      "cell_type": "markdown",
      "source": [
        "# **Q9. 자동판매기 잔돈 계산**\n",
        "\n",
        "자동판매기 잔돈 계산하는 프로그램을 작성해 보세요.\n",
        "\n",
        "[실행결과]<br>\n",
        "물건값 입력 : 750<br>\n",
        "1000원 지폐개수 : 1<br>\n",
        "500원 동전개수 : 0<br>\n",
        "100원 동전개수 : 0<br>\n",
        "= 잔돈 =<br>\n",
        "500원 = 0 100원 = 2 10원 = 5 1원 = 0\n",
        "\n"
      ],
      "metadata": {
        "id": "a6RW9RM5k12h"
      }
    },
    {
      "cell_type": "code",
      "source": [
        "price=int(input(\"물건값 입력:\"))\n",
        "num_1000=int(input(\"1000원 지폐개수:\"))\n",
        "num_500=int(input(\"500원 동전개수:\"))\n",
        "num_100=int(input(\"100원 동전개수:\"))\n",
        "total_money=num_1000*1000+num_500*500+num_100*100\n",
        "remaining_money=total_money-price\n",
        "print(\"=잔돈=\")\n",
        "remaiing_count_500=remaining_money//500\n",
        "remaiing_count_100=(remaining_money-remaiing_count_500*500)//100\n",
        "remaiing_count_10=(remaining_money-remaiing_count_500*500-remaiing_count_100*100)//10\n",
        "remaiing_count_1=remaining_money-remaiing_count_500*500-remaiing_count_100*100-remaiing_count_10*10\n",
        "print(\"500원=\",remaiing_count_500,\"100원=\",remaiing_count_100,\"10원=\",remaiing_count_10,\"1원=\",remaiing_count_1)\n"
      ],
      "metadata": {
        "colab": {
          "base_uri": "https://localhost:8080/"
        },
        "id": "nHE2RIm6CkA_",
        "outputId": "2a0d0175-ca3c-4c9e-9bf4-8c48ae50261b"
      },
      "execution_count": 28,
      "outputs": [
        {
          "output_type": "stream",
          "name": "stdout",
          "text": [
            "물건값 입력:750\n",
            "1000원 지폐개수:1\n",
            "500원 동전개수:0\n",
            "100원 동전개수:0\n",
            "=잔돈=\n",
            "500원= 0 100원= 2 10원= 5 1원= 0\n"
          ]
        }
      ]
    }
  ]
}